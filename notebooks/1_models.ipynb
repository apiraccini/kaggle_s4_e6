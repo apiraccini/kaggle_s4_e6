{
 "cells": [
  {
   "cell_type": "code",
   "execution_count": null,
   "metadata": {},
   "outputs": [],
   "source": [
    "import numpy as np\n",
    "import pandas as pd\n",
    "from pathlib import Path\n",
    "from tqdm import tqdm\n",
    "\n",
    "from sklearn.pipeline import Pipeline\n",
    "from sklearn.compose import ColumnTransformer\n",
    "from sklearn.impute import SimpleImputer\n",
    "from sklearn.preprocessing import OneHotEncoder, StandardScaler\n",
    "from sklearn.model_selection import StratifiedKFold, cross_validate\n",
    "from sklearn.linear_model import LogisticRegression\n",
    "from sklearn.tree import DecisionTreeClassifier\n",
    "from sklearn.neighbors import KNeighborsClassifier\n",
    "from sklearn.svm import SVC\n",
    "from sklearn.neural_network import MLPClassifier\n",
    "from sklearn.ensemble import RandomForestClassifier, ExtraTreesClassifier\n",
    "from sklearn.ensemble import VotingClassifier, StackingClassifier\n",
    "from catboost import CatBoostClassifier\n",
    "from xgboost import XGBClassifier\n",
    "from lightgbm import LGBMClassifier"
   ]
  },
  {
   "cell_type": "code",
   "execution_count": null,
   "metadata": {},
   "outputs": [],
   "source": [
    "# load data\n",
    "data_path = Path('../data')\n",
    "submissions_path = Path('../submissions')\n",
    "\n",
    "train_df = pd.read_csv(data_path / 'train.csv')\n",
    "test_df = pd.read_csv(data_path / 'test.csv')\n",
    "\n",
    "train_df.head()"
   ]
  },
  {
   "cell_type": "code",
   "execution_count": null,
   "metadata": {},
   "outputs": [],
   "source": [
    "# prepare data\n",
    "features = [c for c in train_df.columns if c not in ('id', 'Target')]\n",
    "target = 'Target'\n",
    "\n",
    "cat_features = [\n",
    "    'Marital status', \n",
    "    'Application mode',\n",
    "    'Course', \n",
    "    'Previous qualification',\n",
    "    'Nacionality',\n",
    "    \"Mother's qualification\", \n",
    "    \"Father's qualification\", \n",
    "    \"Mother's occupation\", \n",
    "    \"Father's occupation\" \n",
    "]\n",
    "num_features = [c for c in features if c not in cat_features]\n",
    "\n",
    "for c in cat_features:\n",
    "    train_df[c] = train_df[c].astype('category')\n",
    "    test_df[c] = test_df[c].astype('category')"
   ]
  },
  {
   "cell_type": "code",
   "execution_count": null,
   "metadata": {},
   "outputs": [],
   "source": [
    "# define the preprocessing pipeline\n",
    "numeric_transformer = Pipeline(steps=[\n",
    "    ('imputer', SimpleImputer(strategy='median')),\n",
    "    ('scaler', StandardScaler())])\n",
    "\n",
    "categorical_transformer = Pipeline(steps=[\n",
    "    ('onehot', OneHotEncoder(min_frequency=0.01, handle_unknown='infrequent_if_exist'))])\n",
    "\n",
    "preprocessor = ColumnTransformer(\n",
    "    transformers=[\n",
    "        ('num', numeric_transformer, num_features),\n",
    "        ('cat', categorical_transformer, cat_features)])"
   ]
  },
  {
   "cell_type": "code",
   "execution_count": null,
   "metadata": {},
   "outputs": [],
   "source": [
    "# define the list of classifiers\n",
    "models = {\n",
    "    \n",
    "    'lr': Pipeline(steps=[('preprocessor', preprocessor), ('clf', LogisticRegression(class_weight='balanced', random_state=42))]),\n",
    "    'dt': Pipeline(steps=[('preprocessor', preprocessor), ('clf', DecisionTreeClassifier(class_weight='balanced', random_state=42))]),\n",
    "\n",
    "    #'knn': Pipeline(steps=[('preprocessor', preprocessor), ('clf', KNeighborsClassifier(n_neighbors=10))]),\n",
    "    #'svc': Pipeline(steps=[('preprocessor', preprocessor), ('clf', SVC(random_state=42))]),\n",
    "    'mlp': Pipeline(steps=[('preprocessor', preprocessor), ('clf', MLPClassifier(max_iter=500, hidden_layer_sizes=(16, 16), random_state=42))]),\n",
    "\n",
    "    'rf': Pipeline(steps=[('preprocessor', preprocessor), ('clf', RandomForestClassifier(n_estimators=500, class_weight='balanced', random_state=42))]),\n",
    "    'et': Pipeline(steps=[('preprocessor', preprocessor), ('clf', ExtraTreesClassifier(n_estimators=500, class_weight='balanced', random_state=42))]),\n",
    "\n",
    "    'catb': CatBoostClassifier(cat_features=cat_features, verbose=False, random_state=42),\n",
    "    'lgb': LGBMClassifier(boosting_type = 'gbdt', verbose=-1, class_weight = 'balanced', random_state=42),\n",
    "    'xgb': XGBClassifier(enable_categorical=True, seed=42),\n",
    "    \n",
    "}"
   ]
  },
  {
   "cell_type": "code",
   "execution_count": null,
   "metadata": {},
   "outputs": [],
   "source": [
    "# evaluate models via cross validation \n",
    "metrics = ['accuracy', 'precision_macro', 'recall_macro', 'f1_macro']\n",
    "cv = StratifiedKFold(n_splits=5, shuffle=True, random_state=42)\n",
    "\n",
    "results = []\n",
    "for name, model in tqdm(models.items()):\n",
    "\n",
    "    if 'name' in ['lgb']:\n",
    "        scores = cross_validate(model, train_df[features], train_df[target], cv=cv, scoring=metrics, fit_params={'categorical_feature': cat_features}, n_jobs=-1)\n",
    "    else:\n",
    "        scores = cross_validate(model, train_df[features], train_df[target], cv=cv, scoring=metrics, n_jobs=-1)\n",
    "    \n",
    "    results.append({\n",
    "        'model': name,\n",
    "        'accuracy': scores['test_accuracy'].mean(),\n",
    "        'precision': scores['test_precision_macro'].mean(),\n",
    "        'recall': scores['test_recall_macro'].mean(),\n",
    "        'f1': scores['test_f1_macro'].mean()\n",
    "    })"
   ]
  },
  {
   "cell_type": "code",
   "execution_count": null,
   "metadata": {},
   "outputs": [],
   "source": [
    "# save results\n",
    "results_df = pd.DataFrame(results)\n",
    "results_df.sort_values(by = 'accuracy', ascending=False).to_csv('saved/model_selection__cv_metrics.csv', index=False)\n",
    "\n",
    "results_df.sort_values(by = 'accuracy', ascending=False)"
   ]
  }
 ],
 "metadata": {
  "kernelspec": {
   "display_name": ".venv",
   "language": "python",
   "name": "python3"
  },
  "language_info": {
   "codemirror_mode": {
    "name": "ipython",
    "version": 3
   },
   "file_extension": ".py",
   "mimetype": "text/x-python",
   "name": "python",
   "nbconvert_exporter": "python",
   "pygments_lexer": "ipython3",
   "version": "3.11.3"
  }
 },
 "nbformat": 4,
 "nbformat_minor": 2
}
